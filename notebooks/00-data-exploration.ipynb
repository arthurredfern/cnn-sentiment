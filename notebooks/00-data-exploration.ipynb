{
 "cells": [
  {
   "cell_type": "markdown",
   "metadata": {},
   "source": [
    "# Data exploration\n",
    "\n",
    "Let's check one of the data files:"
   ]
  },
  {
   "cell_type": "code",
   "execution_count": 3,
   "metadata": {},
   "outputs": [
    {
     "name": "stdout",
     "output_type": "stream",
     "text": [
      "*****************************************************************************\r",
      "\r\n",
      "* Annotated by: Minqing Hu and Bing Liu, 2004.\r",
      "\r\n",
      "*\t\tDepartment of Computer Sicence\r",
      "\r\n",
      "*               University of Illinois at Chicago              \r",
      "\r\n",
      "*\r",
      "\r\n",
      "* Product name: Nokia 6610\r",
      "\r\n",
      "* Review Source: amazon.com\r",
      "\r\n",
      "*\r",
      "\r\n",
      "* See Readme.txt to find the meaning of each symbol. \r",
      "\r\n",
      "*****************************************************************************\r",
      "\r\n",
      "\r",
      "\r\n",
      "[t]excellent phone , excellent service . \r",
      "\r\n",
      "##i am a business user who heavily depend on mobile service . \r",
      "\r\n",
      "phone[+3], work[+2]##there is much which has been said in other reviews about the features of this phone , it is a great phone , mine worked without any problems right out of the box . \r",
      "\r\n",
      "##just double check with customer service to ensure the number provided by amazon is for the city / exchange you wanted . \r",
      "\r\n",
      "at&t customer service[-2]##after several years of torture in the hands of at&t customer service i am delighted to drop them , and look forward to august 2004 when i will convert our other 3 family-phones from at&t to t-mobile ! \r",
      "\r\n",
      "signal quality[+3]##i have had the phone for 1 week , the signal quality has been great in the detroit area ( suburbs ) and in my recent road trip between detroit and northern kentucky ( cincinnati ) i experienced perfect signal and reception along i-75 , far superior to at &#38; t 's which does not work along several long stretches on that same route . \r",
      "\r\n",
      "##i have owned motorola , panasonic and nokia phones over the last 8 years and generally prefer nokia , this phone combines many of the best nokia features , the only feature missing for me is the voice recognition . \r",
      "\r\n",
      "speaker phone[+2],radio[+2],infrared[+2]##my favorite features , although there are many , are the speaker phone , the radio and the infrared . \r",
      "\r\n",
      "speaker phone[+2]##the speaker phone is very functional and i use it in the car , very audible even with freeway noise . \r",
      "\r\n"
     ]
    }
   ],
   "source": [
    "!head ../data/raw/Nokia\\ 6610.txt -n 20"
   ]
  },
  {
   "cell_type": "markdown",
   "metadata": {},
   "source": [
    "We can get labels for the sentiment (either positive or negative) from annotations like `[+2]`. As the authors suggest, we can drop the number and use the sign only. However, are there any reviews that contain both positive and negative values? Let's check, for instance, if there is a positive value after a negative one:"
   ]
  },
  {
   "cell_type": "code",
   "execution_count": 4,
   "metadata": {},
   "outputs": [
    {
     "name": "stdout",
     "output_type": "stream",
     "text": [
      "../data/raw/Canon G3.txt:viewfinder[-1],lcd[+2],camera[+3]##not perfect ( yes , the viewfinder can get obstructed in instances.but the lcd works well enough in those instances ) , not the cheapest 4.0 mp , but the best 4.0 mp . \r",
      "\r\n",
      "../data/raw/Canon G3.txt:weight[-1],camera[+2]##rather heavy for point and shoot but a great camera for semi pros . \r",
      "\r\n",
      "../data/raw/Nokia 6610.txt:gprs[-1],t-zone[+2]##the gprs connection is sometimes slow , and writing instant messages with the included aol instant messenger software is a pain , but the other t-zones applications are quite useful . \r",
      "\r\n",
      "../data/raw/Creative Labs Nomad Jukebox Zen Xtra 40GB.txt:headphone[-1], sound[+3]##on the subject of headphones , this thing seems like a normal mp3 player when you use the headphones they give you in the box , but invest 30 dollars in a nice pair and the sound quality goes up through the roof ! \r",
      "\r\n",
      "../data/raw/Creative Labs Nomad Jukebox Zen Xtra 40GB.txt:weight[-1][u],battery life[+1]##it 's only slightly heavier than the ipod , and has a longer battery life . \r",
      "\r\n",
      "../data/raw/Creative Labs Nomad Jukebox Zen Xtra 40GB.txt:size[-1][u],weight[+1],software[-1]##there are a couple things i didnt like though but nothing serious : a little larger than other mp3s but still light , the software takes some time to get used to ( maybe 10-15 mins ) , and this thing would definitely be destroyed with one fall . \r",
      "\r\n"
     ]
    }
   ],
   "source": [
    "!grep -rE '\\[-[0-9]].*\\[\\+' ../data/raw"
   ]
  },
  {
   "cell_type": "markdown",
   "metadata": {},
   "source": [
    "We can observe the subjectivity in these results, which makes it harder to define a mapping from them to a binary sentiment. One way is to use the actual values to compute a final sentiment, so for example, given the review \n",
    "\n",
    "> viewfinder**[-1]**,lcd**[+2]**,camera**[+3]**##not perfect ( yes , the viewfinder can get obstructed in instances.but the lcd works well enough in those instances ) , not the cheapest 4.0 mp , but the best 4.0 mp .\n",
    "\n",
    "the score would be `max(0, sign(-1 +2 +3)) = max(0, sign(4)) = 1`, indicating a positive review. On the other hand, the review\n",
    "\n",
    "> size**[-1]**[u],weight**[+1]**,software**[-1]**##there are a couple things i didnt like though but nothing serious : a little larger than other mp3s but still light , the software takes some time to get used to ( maybe 10-15 mins ) , and this thing would definitely be destroyed with one fall . \n",
    "\n",
    "would get `max(0, sign(-1 +1 -1)) = max(0, sign(-1)) = 0`, indicating a negative review."
   ]
  }
 ],
 "metadata": {
  "kernelspec": {
   "display_name": "Python 3",
   "language": "python",
   "name": "python3"
  },
  "language_info": {
   "codemirror_mode": {
    "name": "ipython",
    "version": 3
   },
   "file_extension": ".py",
   "mimetype": "text/x-python",
   "name": "python",
   "nbconvert_exporter": "python",
   "pygments_lexer": "ipython3",
   "version": "3.7.0"
  }
 },
 "nbformat": 4,
 "nbformat_minor": 2
}
